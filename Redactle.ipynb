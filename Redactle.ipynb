{
 "cells": [
  {
   "cell_type": "code",
   "execution_count": 1,
   "metadata": {},
   "outputs": [],
   "source": [
    "import re\n",
    "import os\n",
    "import bs4\n",
    "import json\n",
    "import nltk\n",
    "import time\n",
    "import string\n",
    "import pickle\n",
    "import pathlib\n",
    "import requests\n",
    "import collections\n",
    "import urllib.parse\n",
    "import sklearn.tree\n",
    "import multiprocessing\n",
    "\n",
    "import numpy as np\n",
    "import matplotlib.pyplot as plt"
   ]
  },
  {
   "cell_type": "code",
   "execution_count": 2,
   "metadata": {},
   "outputs": [],
   "source": [
    "ROOT_URL = 'https://en.wikipedia.org/'\n",
    "DATA_DIR = pathlib.Path('articles')\n",
    "assert DATA_DIR.exists()"
   ]
  },
  {
   "cell_type": "code",
   "execution_count": 3,
   "metadata": {},
   "outputs": [],
   "source": [
    "#nltk.download('stopwords')"
   ]
  },
  {
   "cell_type": "code",
   "execution_count": 3,
   "metadata": {},
   "outputs": [],
   "source": [
    "stop_words = nltk.corpus.stopwords.words('english')"
   ]
  },
  {
   "cell_type": "code",
   "execution_count": 4,
   "metadata": {},
   "outputs": [],
   "source": [
    "with open('articles.json', 'r') as infile:\n",
    "    articles_data = json.load(infile)"
   ]
  },
  {
   "cell_type": "code",
   "execution_count": 5,
   "metadata": {},
   "outputs": [],
   "source": [
    "def get_all_leaves(tree_dict):\n",
    "    if 'children' not in tree_dict.keys():\n",
    "        return [tree_dict['id']]\n",
    "    leaves = []\n",
    "    for child in tree_dict['children']:\n",
    "        leaves.extend(get_all_leaves(child))\n",
    "    return leaves"
   ]
  },
  {
   "cell_type": "code",
   "execution_count": 6,
   "metadata": {},
   "outputs": [],
   "source": [
    "leaves = get_all_leaves(articles_data)"
   ]
  },
  {
   "cell_type": "code",
   "execution_count": 7,
   "metadata": {},
   "outputs": [
    {
     "data": {
      "text/plain": [
       "'https://en.wikipedia.org//wiki/Julie_Andrews'"
      ]
     },
     "execution_count": 7,
     "metadata": {},
     "output_type": "execute_result"
    }
   ],
   "source": [
    "ROOT_URL + leaves[0]"
   ]
  },
  {
   "cell_type": "code",
   "execution_count": 8,
   "metadata": {},
   "outputs": [],
   "source": [
    "def get_articles_by_category(articles):\n",
    "    categories = {}\n",
    "    for category in articles['children']:\n",
    "        categories[category['name']] = get_all_leaves(category)\n",
    "    return categories"
   ]
  },
  {
   "cell_type": "code",
   "execution_count": 9,
   "metadata": {},
   "outputs": [],
   "source": [
    "categories = get_articles_by_category(articles_data)"
   ]
  },
  {
   "cell_type": "code",
   "execution_count": 10,
   "metadata": {},
   "outputs": [],
   "source": [
    "def download_articles(articles):\n",
    "    for label, url_paths in articles.items():\n",
    "        os.makedirs(DATA_DIR / label)\n",
    "        for url_path in url_paths:\n",
    "            time.sleep(0.1)\n",
    "            request = requests.get(ROOT_URL + url_path)\n",
    "            if request.status_code == 200:\n",
    "                html = request.content\n",
    "                title = os.path.split(url_path)[-1]\n",
    "                with open(DATA_DIR / label / f'{title}.html', 'wb') as outfile:\n",
    "                    outfile.write(html)"
   ]
  },
  {
   "cell_type": "code",
   "execution_count": 11,
   "metadata": {},
   "outputs": [],
   "source": [
    "#download_articles(get_articles_by_category(articles_data))"
   ]
  },
  {
   "cell_type": "code",
   "execution_count": 12,
   "metadata": {},
   "outputs": [],
   "source": [
    "def extract_text(html):\n",
    "    soup = bs4.BeautifulSoup(html, 'html.parser')\n",
    "    content = soup.find('div', id='content').find('div', id='bodyContent').find('div', id='mw-content-text').find('div')\n",
    "    if content.find(class_='shortdescription'): content.find(class_='shortdescription').decompose()\n",
    "    if content.find(id='References'): content.find(id='References').decompose()\n",
    "    if content.find(class_='reflist'): content.find(class_='reflist').decompose()\n",
    "    for i in content.find_all(class_='mwe-math-element'): i.decompose()\n",
    "    text = '\\n'.join([i.get_text() for i in content if i.name == 'p' or i.name == 'h1' or i.name == 'h2' or i.name == 'h3' or i.name == 'ul'])\n",
    "    text = text.split('See also[edit]')[0]\n",
    "    text = re.sub('[\\(\\[].*?[\\)\\]]', '', text)\n",
    "    text = text.lower()\n",
    "    return text"
   ]
  },
  {
   "cell_type": "code",
   "execution_count": 13,
   "metadata": {},
   "outputs": [],
   "source": [
    "def digest_articles(directory):\n",
    "    for article in os.listdir(directory):\n",
    "        if os.path.splitext(article)[-1] != '.html': continue\n",
    "        with open(os.path.join(directory, article), 'rb') as infile:\n",
    "            html = infile.read()\n",
    "        text = extract_text(html)\n",
    "        tokens = nltk.tokenize.word_tokenize(text)\n",
    "        tokens = [token for token in tokens if token not in stop_words]\n",
    "        tokens = [token for token in tokens if not any([(punc in token) for punc in string.punctuation])]\n",
    "        counts = collections.Counter(tokens)\n",
    "        filename = os.path.splitext(article)[0]+'.txt'\n",
    "        with open(os.path.join(directory, filename), 'w') as outfile:\n",
    "            outfile.write(f'ALL_WORDS:{sum(counts.values())}\\n')\n",
    "            title = os.path.splitext(article)[0]\n",
    "            outfile.write(f'TITLE_NUM_WORDS:{len(title.split(\"_\"))}\\n')\n",
    "            for i in range(5):\n",
    "                if i < len(title.split('_')):\n",
    "                    w = title.split('_')[i]\n",
    "                    outfile.write(f'TITLE_WORD_{i}_LEN:{len(w)}\\n')\n",
    "            for word, count in counts.items():\n",
    "                if count > 1:\n",
    "                    outfile.write(f'{word}:{count}\\n')"
   ]
  },
  {
   "cell_type": "code",
   "execution_count": 372,
   "metadata": {},
   "outputs": [],
   "source": [
    "categories = [os.path.join(DATA_DIR, category) for category in os.listdir(DATA_DIR) if os.path.isdir(os.path.join(DATA_DIR, category))]\n",
    "\n",
    "with multiprocessing.Pool(len(categories)) as p:\n",
    "    p.map(digest_articles, categories)"
   ]
  },
  {
   "cell_type": "code",
   "execution_count": 14,
   "metadata": {},
   "outputs": [],
   "source": [
    "def load_word_list(directory):\n",
    "    words = collections.Counter()\n",
    "    for category in os.listdir(directory):\n",
    "        for article in os.listdir(os.path.join(directory, category)):\n",
    "            if os.path.splitext(article)[-1] != '.txt': continue\n",
    "            with open(os.path.join(directory, category, article), 'r') as infile:\n",
    "                data = infile.read()\n",
    "            for line in data.split('\\n'):\n",
    "                if line == '': continue\n",
    "                word = line.split(':')[0]\n",
    "                words[word] += 1\n",
    "    words_array = np.array([word for word, count in words.items() if count > 5]) # optimized for getting word of index\n",
    "    words_dict = {word:i for i, word in enumerate(words_array)} # optimized for getting index of word\n",
    "    return words_array, words_dict"
   ]
  },
  {
   "cell_type": "code",
   "execution_count": 385,
   "metadata": {},
   "outputs": [],
   "source": [
    "words_array, words_dict = load_word_list('articles')"
   ]
  },
  {
   "cell_type": "code",
   "execution_count": 389,
   "metadata": {},
   "outputs": [],
   "source": [
    "with open('words.pkl', 'wb') as outfile:\n",
    "    pickle.dump([words_array, words_dict], outfile)"
   ]
  },
  {
   "cell_type": "code",
   "execution_count": 15,
   "metadata": {},
   "outputs": [],
   "source": [
    "with open('words.pkl', 'rb') as infile:\n",
    "    words_array, words_dict = pickle.load(infile)"
   ]
  },
  {
   "cell_type": "code",
   "execution_count": 16,
   "metadata": {},
   "outputs": [
    {
     "data": {
      "text/plain": [
       "39620"
      ]
     },
     "execution_count": 16,
     "metadata": {},
     "output_type": "execute_result"
    }
   ],
   "source": [
    "len(words_array)"
   ]
  },
  {
   "cell_type": "code",
   "execution_count": 20,
   "metadata": {},
   "outputs": [],
   "source": [
    "def generate_features(min_count=100):\n",
    "    \n",
    "    features = np.zeros((len(leaves), len(words_array)))\n",
    "    labels = np.zeros(len(leaves))\n",
    "    all_labels = [ ]\n",
    "    idx = 0\n",
    "    top = None\n",
    "    \n",
    "    def scan(node, depth, label):\n",
    "        nonlocal idx, top\n",
    "        if depth == 1:\n",
    "            top = node['name']\n",
    "            label = len(all_labels)\n",
    "            all_labels.append(node['name'])\n",
    "        elif depth == 2 and node['count'] >= min_count:\n",
    "            label = len(all_labels)\n",
    "            all_labels.append(top + ' / ' + node['name'])\n",
    "        children = node.get('children', [])\n",
    "        if children:\n",
    "            for child in node['children']:\n",
    "                scan(child, depth + 1, label)\n",
    "        else:\n",
    "            name = node[\"id\"][6:]\n",
    "            if '/' in name:\n",
    "                # This only occurs for \"HIV/AIDS\"\n",
    "                name = name[:name.index('/')]\n",
    "            path = DATA_DIR / top / f'{name}.txt'\n",
    "            with open(path, 'r') as infile:\n",
    "                data = infile.read()\n",
    "            for line in data.split('\\n'):\n",
    "                if line == '': continue\n",
    "                word, count = line.split(':')\n",
    "                count = int(count)\n",
    "                if word in words_dict:\n",
    "                    features[idx, words_dict[word]] = count\n",
    "            labels[idx] = label\n",
    "            idx += 1\n",
    "\n",
    "    scan(articles_data, 0, None)\n",
    "    return features, labels, all_labels"
   ]
  },
  {
   "cell_type": "code",
   "execution_count": 21,
   "metadata": {},
   "outputs": [],
   "source": [
    "features, labels, all_labels = generate_features()"
   ]
  },
  {
   "cell_type": "code",
   "execution_count": 22,
   "metadata": {},
   "outputs": [
    {
     "data": {
      "text/plain": [
       "['People',\n",
       " 'People / Visual artists',\n",
       " 'People / Writers',\n",
       " 'People / Musicians and composers',\n",
       " 'People / Philosophers, historians, political and social scientists',\n",
       " 'People / Religious figures',\n",
       " 'People / Politicians and leaders',\n",
       " 'People / Scientists, inventors and mathematicians',\n",
       " 'History',\n",
       " 'History / Ancient history',\n",
       " 'History / Post-classical history',\n",
       " 'History / Late modern history',\n",
       " 'Geography',\n",
       " 'Geography / Physical geography',\n",
       " 'Geography / Countries',\n",
       " 'Geography / Regions and country subdivisions',\n",
       " 'Geography / Cities',\n",
       " 'Arts',\n",
       " 'Arts / Literature',\n",
       " 'Arts / Music',\n",
       " 'Arts / Visual arts',\n",
       " 'Philosophy and religion',\n",
       " 'Philosophy and religion / Philosophy',\n",
       " 'Philosophy and religion / Mythology',\n",
       " 'Everyday life',\n",
       " 'Everyday life / Cooking, food and drink',\n",
       " 'Everyday life / Sports and recreation',\n",
       " 'Society and social sciences',\n",
       " 'Society and social sciences / Business and economics',\n",
       " 'Society and social sciences / Language',\n",
       " 'Biology and health sciences',\n",
       " 'Biology and health sciences / Anatomy and morphology',\n",
       " 'Biology and health sciences / Organisms',\n",
       " 'Biology and health sciences / Health, medicine and disease',\n",
       " 'Physical sciences',\n",
       " 'Physical sciences / Astronomy',\n",
       " 'Physical sciences / Chemistry',\n",
       " 'Physical sciences / Earth science',\n",
       " 'Physical sciences / Physics',\n",
       " 'Technology',\n",
       " 'Technology / Industry',\n",
       " 'Mathematics']"
      ]
     },
     "execution_count": 22,
     "metadata": {},
     "output_type": "execute_result"
    }
   ],
   "source": [
    "all_labels"
   ]
  },
  {
   "cell_type": "code",
   "execution_count": 23,
   "metadata": {},
   "outputs": [],
   "source": [
    "with open('features-new.pkl', 'wb') as outfile:\n",
    "    pickle.dump([features, labels, all_labels], outfile)"
   ]
  },
  {
   "cell_type": "code",
   "execution_count": 36,
   "metadata": {},
   "outputs": [],
   "source": [
    "with open('features-new.pkl', 'rb') as infile:\n",
    "    features, labels, all_labels = pickle.load(infile)"
   ]
  },
  {
   "cell_type": "code",
   "execution_count": 24,
   "metadata": {},
   "outputs": [],
   "source": [
    "classifier = sklearn.tree.DecisionTreeClassifier(max_depth = 20, criterion='entropy') #, class_weight='balanced')"
   ]
  },
  {
   "cell_type": "code",
   "execution_count": 25,
   "metadata": {},
   "outputs": [
    {
     "name": "stdout",
     "output_type": "stream",
     "text": [
      "CPU times: user 26.3 s, sys: 126 ms, total: 26.4 s\n",
      "Wall time: 26.5 s\n"
     ]
    },
    {
     "data": {
      "text/plain": [
       "DecisionTreeClassifier(ccp_alpha=0.0, class_weight=None, criterion='entropy',\n",
       "                       max_depth=20, max_features=None, max_leaf_nodes=None,\n",
       "                       min_impurity_decrease=0.0, min_impurity_split=None,\n",
       "                       min_samples_leaf=1, min_samples_split=2,\n",
       "                       min_weight_fraction_leaf=0.0, presort='deprecated',\n",
       "                       random_state=None, splitter='best')"
      ]
     },
     "execution_count": 25,
     "metadata": {},
     "output_type": "execute_result"
    }
   ],
   "source": [
    "%time classifier.fit(features, labels)"
   ]
  },
  {
   "cell_type": "code",
   "execution_count": 26,
   "metadata": {},
   "outputs": [
    {
     "data": {
      "text/plain": [
       "0.9721306562780941"
      ]
     },
     "execution_count": 26,
     "metadata": {},
     "output_type": "execute_result"
    }
   ],
   "source": [
    "classifier.score(features, labels)"
   ]
  },
  {
   "cell_type": "code",
   "execution_count": 27,
   "metadata": {},
   "outputs": [
    {
     "name": "stdout",
     "output_type": "stream",
     "text": [
      "['father' 'species' 'population' 'death' 'city' 'used' 'music' 'economy'\n",
      " 'properties' 'works' 'earth' 'defeated' 'TITLE_WORD_1_LEN' 'include'\n",
      " 'art' 'political' 'language' 'world' 'people' 'cells' 'work' 'genus'\n",
      " 'area' 'god' 'example' 'games' 'literary' 'mathematics' 'climate' 'north'\n",
      " 'century' 'career' 'chemical' 'energy' 'played' 'film' 'united'\n",
      " 'treatment' 'designed' 'country' 'person' 'government' 'food' 'may'\n",
      " 'stars' 'philosophy' 'march' 'reign' 'acid' 'two' 'many' 'use' 'first'\n",
      " 'religious' 'term' 'one' 'theory' 'south' 'life' 'water' 'ALL_WORDS'\n",
      " 'languages' 'common' 'using' 'story' 'also' 'large' 'military' 'empire'\n",
      " 'spoken' 'family' 'scientific' 'science' 'unit' 'sea' 'later' 'usually'\n",
      " 'often' 'however' 'humans' 'died' 'disease' 'southern' 'around'\n",
      " 'TITLE_WORD_0_LEN' 'form' 'production' 'published' 'different' 'army'\n",
      " 'would' 'war' 'known' 'instruments' 'human' 'artists' 'born' 'law'\n",
      " 'since' 'became' 'name' 'plants' 'health' 'state' 'could' 'writing'\n",
      " 'tradition' 'social' 'applications' 'according' 'years' 'TITLE_NUM_WORDS'\n",
      " 'given' 'called' 'surface' 'king' 'part' 'individual' 'metals'\n",
      " 'countries' 'design' 'national' 'february' 'new' 'x' 'concert' 'word'\n",
      " 'high' 'popular' 'artist' 'author' 'early' 'power' 'homo' 'states'\n",
      " 'within' 'award' '19th' '1' 'another' 'characters' 'poems' 'made' 'found'\n",
      " 'distance' 'small' 'takes' 'output' 'general' 'organisms' 'painting'\n",
      " 'english' 'final' 'western' 'including' 'molecules' 'field' 'history'\n",
      " 'members' 'groups' 'international' 'important' 'medical' 'less' 'force'\n",
      " 'typically' 'systems' 'following' 'three' 'school' 'began' 'middle'\n",
      " 'public' 'physical' 'mathematical' 'time' 'version' 'led' 'period'\n",
      " 'plant' 'therefore' 'book' 'equations' 'home' 'end' 'endemic' 'along'\n",
      " 'light' 'roman' 'system' 'gdp' 'university' 'mammals' 'wrote' 'trade'\n",
      " 'gravitational' 'indian' 'per' 'kingdom' 'local']\n"
     ]
    }
   ],
   "source": [
    "top_features = np.argsort(classifier.feature_importances_)[::-1][:200]\n",
    "print(words_array[top_features])"
   ]
  },
  {
   "cell_type": "code",
   "execution_count": 28,
   "metadata": {},
   "outputs": [],
   "source": [
    "def tree2json(tree, name):\n",
    "    data = dict(\n",
    "        classes = all_labels,\n",
    "        words = [words_array[i] if i >= 0 else \"\" for i in tree.feature],\n",
    "        cuts = [int(i) if i >= 0 else 0 for i in tree.threshold],\n",
    "        below = tree.children_left.tolist(),\n",
    "        above = tree.children_right.tolist(),\n",
    "        probs = [p[0].astype(int).tolist() for p in tree.value],\n",
    "    )\n",
    "    with open(name, 'w') as fp:\n",
    "        json.dump(data, fp)"
   ]
  },
  {
   "cell_type": "code",
   "execution_count": 29,
   "metadata": {},
   "outputs": [],
   "source": [
    "tree2json(classifier.tree_, 'tree20-new-entropy-100.json')"
   ]
  }
 ],
 "metadata": {
  "kernelspec": {
   "display_name": "Python 3",
   "language": "python",
   "name": "python3"
  },
  "language_info": {
   "codemirror_mode": {
    "name": "ipython",
    "version": 3
   },
   "file_extension": ".py",
   "mimetype": "text/x-python",
   "name": "python",
   "nbconvert_exporter": "python",
   "pygments_lexer": "ipython3",
   "version": "3.8.5"
  }
 },
 "nbformat": 4,
 "nbformat_minor": 4
}
